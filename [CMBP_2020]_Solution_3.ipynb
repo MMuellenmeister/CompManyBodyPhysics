{
 "cells": [
  {
   "cell_type": "markdown",
   "metadata": {},
   "source": [
    "# Sheet 3"
   ]
  },
  {
   "cell_type": "markdown",
   "metadata": {},
   "source": [
    "Markus Müllenemeister 7321662"
   ]
  },
  {
   "cell_type": "markdown",
   "metadata": {},
   "source": [
    "For this sheet I order the states the same in the binary and in the physical representation:\n",
    "\n",
    "The states always get ordered from the right to the left: for sites $s_1$, $s_2$, $s_3$, $s_4$ the states are for example: \n",
    "\n",
    "$|\\downarrow \\uparrow \\downarrow \\uparrow>= | \\downarrow_4 \\uparrow_3 \\downarrow_2 \\uparrow_1>= |0_4 1_3 0_2 1_1>= |0 1 0 1>$\n",
    "\n",
    "For the matricies the states are ordered ascending by number in binary representation. So $|0 0 \\dots 0>$ on the top/left to $|1 1 \\dots 1>$ on the bottom/right. "
   ]
  },
  {
   "cell_type": "markdown",
   "metadata": {},
   "source": [
    "## Exercise 1:"
   ]
  },
  {
   "cell_type": "markdown",
   "metadata": {},
   "source": [
    "### a)\n",
    "\n",
    "$$H= -\\sum_{ij\\alpha}J_{ij}^\\alpha S_i^\\alpha S_j^\\alpha$$\n",
    "> $S_i^\\pm  \\quad = S_i^x \\pm iS_i^y$\n",
    "> $\\Leftrightarrow \\bigg\\{\n",
    "\\begin{matrix}\n",
    "S_i^x &= \\frac{1}{2}(S_i^+ + S_i^-)\\\\\n",
    "S_i^y &= \\frac{1}{2i}(S_i^+ - S_i^-)\n",
    "\\end{matrix}$\n",
    "\n",
    "$$H= -\\sum_{ij} J_{ij}^x S_i^x S_j^x \\:+\\: J_{ij}^y S_i^y S_j^y \\:+\\: J_{ij}^z S_i^z S_j^z$$\n",
    "$$\\Leftrightarrow H= -\\sum_{ij} \\frac{J_{ij}^x}{4}(S_i^+ + S_i^-)(S_j^+ + S_j^-) - \\frac{J_{ij}^y}{4}(S_i^+ - S_i^-)(S_j^+ - S_j^-) + J_{ij}^z S_i^z S_j^z$$\n",
    "\n",
    "$$\\Leftrightarrow H= -\\sum_{ij} \\frac{J_{ij}^x - J_{ij}^y}{4}(S_i^+ S_j^+ + S_i^- S_j^-) - \\frac{J_{ij}^x + J_{ij}^y}{4}(S_i^+ S_j^- + S_i^- S_j^+) + J_{ij}^z S_i^z S_j^z$$"
   ]
  },
  {
   "cell_type": "markdown",
   "metadata": {},
   "source": [
    "### b)\n",
    "\n",
    "> Ising model: $J_{ij}^\\alpha = J \\delta_{\\alpha z}$\n",
    "\n",
    "$$\\Rightarrow H= -\\sum_{ij} J S_i^z S_j^z$$\n",
    "for $N=3$ sites: \n",
    "$$\\bar{H_b}= -\\frac{J}{4} \\begin{pmatrix}\n",
    "3 & 0 & 0 & 0 & 0 & 0 & 0 & 0\\\\\n",
    "0 & 1 & 0 & 0 & 0 & 0 & 0 & 0\\\\\n",
    "0 & 0 & 1 & 0 & 0 & 0 & 0 & 0\\\\\n",
    "0 & 0 & 0 & 1 & 0 & 0 & 0 & 0\\\\\n",
    "0 & 0 & 0 & 0 & 1 & 0 & 0 & 0\\\\\n",
    "0 & 0 & 0 & 0 & 0 & 1 & 0 & 0\\\\\n",
    "0 & 0 & 0 & 0 & 0 & 0 & 1 & 0\\\\\n",
    "0 & 0 & 0 & 0 & 0 & 0 & 0 & 3\\\\\n",
    " \\end{pmatrix}$$"
   ]
  },
  {
   "cell_type": "markdown",
   "metadata": {},
   "source": [
    "### c)\n",
    "\n",
    "> Isotropic Heisenberg model: $J_{ij}^\\alpha = J$\n",
    "\n",
    "$$\\Rightarrow H= -\\sum_{ij} \\frac{J}{2} (S_i^+ S_j^- + S_i^- S_j^+) + J S_i^z S_j^z$$\n",
    "Split into $H = H_1 + H_2$\n",
    "$$\\begin{matrix}\n",
    "H_1 = &-\\sum_{ij} J S_i^z S_j^z \\qquad\\qquad& \\textrm{(see 1b)}\\\\\n",
    "H_2 = &-\\sum_{ij} \\frac{J}{2} (S_i^+ S_j^- + S_i^- S_j^+) & \\\\\n",
    "\\end{matrix}$$\n",
    "\n",
    "$$\\Rightarrow \\bar{H_2}= -\\frac{J}{2} \\begin{pmatrix}\n",
    "0 & 0 & 0 & 0 & 0 & 0 & 0 & 0\\\\\n",
    "0 & 0 & \\color{red}{1} & 0 & \\color{red}{1} & 0 & 0 & 0\\\\\n",
    "0 & \\color{red}{1} & 0 & 0 & \\color{red}{1} & 0 & 0 & 0\\\\\n",
    "0 & 0 & 0 & 0 & 0 & \\color{red}{1} & \\color{red}{1} & 0\\\\\n",
    "0 & \\color{red}{1} & \\color{red}{1} & 0 & 0 & 0 & 0 & 0\\\\\n",
    "0 & 0 & 0 & \\color{red}{1} & 0 & 0 & \\color{red}{1} & 0\\\\\n",
    "0 & 0 & 0 & \\color{red}{1} & 0 & \\color{red}{1} & 0 & 0\\\\\n",
    "0 & 0 & 0 & 0 & 0 & 0 & 0 & 0\\\\\n",
    " \\end{pmatrix}$$\n",
    " \n",
    " $ $\n",
    "$$\\bar{H_c}= -\\frac{J}{4} \\begin{pmatrix}\n",
    "3 & 0 & 0 & 0 & 0 & 0 & 0 & 0\\\\\n",
    "0 & 1 & 2 & 0 & 2 & 0 & 0 & 0\\\\\n",
    "0 & 2 & 1 & 0 & 2 & 0 & 0 & 0\\\\\n",
    "0 & 0 & 0 & 1 & 0 & 2 & 2 & 0\\\\\n",
    "0 & 2 & 2 & 0 & 1 & 0 & 0 & 0\\\\\n",
    "0 & 0 & 0 & 2 & 0 & 1 & 2 & 0\\\\\n",
    "0 & 0 & 0 & 2 & 0 & 2 & 1 & 0\\\\\n",
    "0 & 0 & 0 & 0 & 0 & 0 & 0 & 3\\\\\n",
    " \\end{pmatrix}$$"
   ]
  },
  {
   "cell_type": "markdown",
   "metadata": {},
   "source": [
    "### d)\n",
    "\n",
    "> $J_{12}^x = J_{23}^y = J_{31}^z = J$, otherwise $J_{ij}^\\alpha = 0$\n",
    "\n",
    "\n",
    "$$\\Rightarrow H = -\\Big(\\frac{J}{4}(S_1^+S_2^+ + S_1^+S_2^- + S_1^-S_2^+ + S_1^-S_2^-) + \\frac{J}{4}(-S_2^+S_3^+ + S_2^+S_3^- + S_2^-S_3^+ - S_2^-S_3^-) + J S_3^z S_1^z\\Big)$$\n",
    "\n",
    "$$\\Rightarrow \\bar{H_d} = -\\frac{J}{4} \\begin{pmatrix}\n",
    "1 & 0 & 0 & 1 & 0 & 0 & -1 & 0\\\\\n",
    "0 & -1 & 1 & 0 & 0 & 0 & 0 & -1\\\\\n",
    "0 & 1 & 1 & 0 & 1 & 0 & 0 & 0\\\\\n",
    "1 & 0 & 0 & -1 & 0 & 1 & 0 & 0\\\\\n",
    "0 & 0 & 1 & 0 & -1 & 0 & 0 & 1\\\\\n",
    "0 & 0 & 0 & 1 & 0 & 1 & 1 & 0\\\\\n",
    "-1 & 0 & 0 & 0 & 0 & 1 & -1 & 0\\\\\n",
    "0 & -1 & 0 & 0 & 1 & 0 & 0 & 1\\\\\n",
    " \\end{pmatrix}$$"
   ]
  },
  {
   "cell_type": "markdown",
   "metadata": {},
   "source": [
    "## Exercise 2:"
   ]
  },
  {
   "cell_type": "code",
   "execution_count": 24,
   "metadata": {},
   "outputs": [
    {
     "name": "stdout",
     "output_type": "stream",
     "text": [
      "J1 (Ising model): \n",
      "[[-0.75  0.    0.    0.    0.    0.    0.    0.  ]\n",
      " [ 0.    0.25  0.    0.    0.    0.    0.    0.  ]\n",
      " [ 0.    0.    0.25  0.    0.    0.    0.    0.  ]\n",
      " [ 0.    0.    0.    0.25  0.    0.    0.    0.  ]\n",
      " [ 0.    0.    0.    0.    0.25  0.    0.    0.  ]\n",
      " [ 0.    0.    0.    0.    0.    0.25  0.    0.  ]\n",
      " [ 0.    0.    0.    0.    0.    0.    0.25  0.  ]\n",
      " [ 0.    0.    0.    0.    0.    0.    0.   -0.75]]\n",
      "\n",
      "J2 (isotropic Heisenberg model): \n",
      "[[-0.75  0.    0.    0.    0.    0.    0.    0.  ]\n",
      " [ 0.    0.25 -0.5   0.   -0.5   0.    0.    0.  ]\n",
      " [ 0.   -0.5   0.25  0.   -0.5   0.    0.    0.  ]\n",
      " [ 0.    0.    0.    0.25  0.   -0.5  -0.5   0.  ]\n",
      " [ 0.   -0.5  -0.5   0.    0.25  0.    0.    0.  ]\n",
      " [ 0.    0.    0.   -0.5   0.    0.25 -0.5   0.  ]\n",
      " [ 0.    0.    0.   -0.5   0.   -0.5   0.25  0.  ]\n",
      " [ 0.    0.    0.    0.    0.    0.    0.   -0.75]]\n",
      "\n",
      "J3 (Exercise 1d): \n",
      "[[-0.25  0.    0.   -0.25  0.    0.    0.25  0.  ]\n",
      " [ 0.    0.25 -0.25  0.    0.    0.    0.    0.25]\n",
      " [ 0.   -0.25 -0.25  0.   -0.25  0.    0.    0.  ]\n",
      " [-0.25  0.    0.    0.25  0.   -0.25  0.    0.  ]\n",
      " [ 0.    0.   -0.25  0.    0.25  0.    0.   -0.25]\n",
      " [ 0.    0.    0.   -0.25  0.   -0.25 -0.25  0.  ]\n",
      " [ 0.25  0.    0.    0.    0.   -0.25  0.25  0.  ]\n",
      " [ 0.    0.25  0.    0.   -0.25  0.    0.   -0.25]]\n",
      "1.81 ms ± 0 ns per loop (mean ± std. dev. of 1 run, 1 loop each)\n"
     ]
    }
   ],
   "source": [
    "%%timeit -n1 -r1\n",
    "import numpy as np\n",
    "np.set_printoptions(threshold=np.inf, linewidth=np.inf)\n",
    "flipsign = False\n",
    "\n",
    "def hamilton_matrix(J, N):\n",
    "    \"\"\"\n",
    "    Generates the hamiltonian Matrix for a list of arbitrary couplings.\n",
    "    @param N: Number of sites to model.\n",
    "    @param J: Array of dimensions [3,2**N] with N= number of sites. Entries in the list represent the couplings.\n",
    "        The first index describes the coupling dimension (0=x, 1=y, 3=z).\n",
    "        The second index describes the (two) sites which are coupled as a binary number i.e. \"2-3\" coupling = 5 = 0b110\n",
    "    @return: hamilton matrix with dimensions [2**N, 2**N]. States are ordered in increasing binary representation\n",
    "        with physical states having the *same* ordering as the binary values.\n",
    "        The first state is thus positioned at the rightmost position, the last one at the leftmost position.\n",
    "    \"\"\"\n",
    "    if not J.shape[1] == 2**N:\n",
    "        raise Exception(\"J must have the second dimension equal to 2**N\")\n",
    "    arrsize = [J.shape[0], J.shape[1], J.shape[1]]\n",
    "    H = np.zeros(arrsize, dtype=float)  # calculate each dimension separately, sum them in the end\n",
    "    #  generate list of all two-particle interactions in binary format, i.e for (N=3)1-2 '011', for (N=9)3-9 '100000100'\n",
    "    masks = []\n",
    "    for j in range(1, N):\n",
    "        for i in range(0, j):\n",
    "            masks.append(np.power(2, i, dtype=int) + np.power(2, j, dtype=int))\n",
    "    kMax = H.shape[1]\n",
    "    for a in range(0, kMax):\n",
    "        for m in masks:\n",
    "            b = a ^ m  # state with applicable raising & lowering operators applied, unapplicables are 0 either way\n",
    "            H[0, a, b] = J[0, m] / 4  # x-coupling. No case distinction necessary.\n",
    "            eq = a & m  # get only the effected spins\n",
    "            g = 0\n",
    "            for i in range(H.shape[1]):\n",
    "                g += (eq >> i) & 1  # go through the effected spins and sum outcome\n",
    "            #  case distinction for parallel (g=1 or g=2) or antiparallel (g=1) spins.\n",
    "            if g == 1:\n",
    "                H[1, a, b] += J[1, m] / 4  # y-coupling for antiparallel spins\n",
    "                H[2, a, a] -= J[2, m] / 4  # z-coupling for antiparallel spins\n",
    "            else:\n",
    "                H[1, a, b] -= J[1, m] / 4  # y-coupling for parallel spins\n",
    "                H[2, a, a] += J[2, m] / 4  # z-coupling for parallel spins\n",
    "            \"breakpoint\"\n",
    "    # return the sum over all dimensions\n",
    "    ges = H[0]\n",
    "    for i in range(1, H.shape[0]):\n",
    "        ges += H[i]\n",
    "    return ges\n",
    "\n",
    "J = 1\n",
    "N = 3\n",
    "\n",
    "#1b\n",
    "J1 = np.ones([3, 2 ** N], dtype=float)\n",
    "J1[1] = np.zeros([2 ** N])\n",
    "J1[0] = np.zeros([2 ** N])\n",
    "\n",
    "#1c\n",
    "J2 = np.ones([3, 2 ** N], dtype=float)\n",
    "\n",
    "#1d\n",
    "J3 = np.zeros([3, 2 ** N])\n",
    "J3[0, 0b011] = 1\n",
    "J3[1, 0b110] = 1\n",
    "J3[2, 0b101] = 1\n",
    "\n",
    "Jtest = np.ones([3, 2**5])\n",
    "\n",
    "if not flipsign: \n",
    "    J*=-1\n",
    "J1 *= J\n",
    "J2 *= J\n",
    "J3 *= J\n",
    "print(\"J1 (Ising model): \")\n",
    "print(hamilton_matrix(J1, N))\n",
    "print(\"\\nJ2 (isotropic Heisenberg model): \")\n",
    "print(hamilton_matrix(J2, N))\n",
    "print(\"\\nJ3 (Exercise 1d): \")\n",
    "print(hamilton_matrix(J3, N))"
   ]
  }
 ],
 "metadata": {
  "kernelspec": {
   "display_name": "Python 3",
   "language": "python",
   "name": "python3"
  },
  "language_info": {
   "codemirror_mode": {
    "name": "ipython",
    "version": 3
   },
   "file_extension": ".py",
   "mimetype": "text/x-python",
   "name": "python",
   "nbconvert_exporter": "python",
   "pygments_lexer": "ipython3",
   "version": "3.7.0"
  }
 },
 "nbformat": 4,
 "nbformat_minor": 2
}
