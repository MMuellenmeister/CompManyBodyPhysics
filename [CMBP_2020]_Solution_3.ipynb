{
 "cells": [
  {
   "cell_type": "markdown",
   "metadata": {},
   "source": [
    "Be familiar with the comuptaional basis will make things easier. For example, one can represent quantum state $|\\uparrow\\uparrow\\uparrow\\downarrow\\downarrow\\rangle$ as $|11100 \\rangle$ (using the fact that $\\sigma_z | 0\\rangle = |0\\rangle$ and $\\sigma_z | 1\\rangle = -|1\\rangle$). This can be further considered as $|11100_2\\rangle = |28\\rangle$. Thus the vector $H | \\uparrow \\uparrow \\uparrow \\downarrow \\downarrow \\rangle$ for some operator $H$ means 28-th column of $H$ in the computational basis. One may convert the number to binary string (using bitstring in Julia or \"{:b}.format()\" in python) for this purpose, but bit operations (such as bitwise AND (&), OR (|), SHIFT (<<)) are much more efficient"
   ]
  }
 ],
 "metadata": {
  "kernelspec": {
   "display_name": "Python 3",
   "language": "python",
   "name": "python3"
  },
  "language_info": {
   "codemirror_mode": {
    "name": "ipython",
    "version": 3
   },
   "file_extension": ".py",
   "mimetype": "text/x-python",
   "name": "python",
   "nbconvert_exporter": "python",
   "pygments_lexer": "ipython3",
   "version": "3.7.0"
  }
 },
 "nbformat": 4,
 "nbformat_minor": 2
}
